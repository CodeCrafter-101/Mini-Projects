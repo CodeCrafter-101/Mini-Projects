{
  "nbformat": 4,
  "nbformat_minor": 0,
  "metadata": {
    "colab": {
      "provenance": [],
      "authorship_tag": "ABX9TyOTmpB8OVitxtmsOTg/S/t+",
      "include_colab_link": true
    },
    "kernelspec": {
      "name": "python3",
      "display_name": "Python 3"
    },
    "language_info": {
      "name": "python"
    }
  },
  "cells": [
    {
      "cell_type": "markdown",
      "metadata": {
        "id": "view-in-github",
        "colab_type": "text"
      },
      "source": [
        "<a href=\"https://colab.research.google.com/github/CodeCrafter-101/Mini-Projects/blob/main/Google_Image_Downloader.ipynb\" target=\"_parent\"><img src=\"https://colab.research.google.com/assets/colab-badge.svg\" alt=\"Open In Colab\"/></a>"
      ]
    },
    {
      "cell_type": "code",
      "execution_count": null,
      "metadata": {
        "colab": {
          "base_uri": "https://localhost:8080/"
        },
        "collapsed": true,
        "id": "ClrZm5phGOSN",
        "outputId": "1dc40f61-165b-41f6-8289-ca8eca5105be"
      },
      "outputs": [
        {
          "output_type": "stream",
          "name": "stdout",
          "text": [
            "Requirement already satisfied: google_images_search in /usr/local/lib/python3.11/dist-packages (1.4.7)\n",
            "Requirement already satisfied: colorama~=0.4 in /usr/local/lib/python3.11/dist-packages (from google_images_search) (0.4.6)\n",
            "Requirement already satisfied: pyfiglet~=0.8 in /usr/local/lib/python3.11/dist-packages (from google_images_search) (0.8.post1)\n",
            "Requirement already satisfied: termcolor~=1.1 in /usr/local/lib/python3.11/dist-packages (from google_images_search) (1.1.0)\n",
            "Requirement already satisfied: click<=8.2,>=7.0 in /usr/local/lib/python3.11/dist-packages (from google_images_search) (8.2.0)\n",
            "Requirement already satisfied: six~=1.12 in /usr/local/lib/python3.11/dist-packages (from google_images_search) (1.17.0)\n",
            "Requirement already satisfied: requests~=2.21 in /usr/local/lib/python3.11/dist-packages (from google_images_search) (2.32.3)\n",
            "Requirement already satisfied: Pillow>=8.1.1 in /usr/local/lib/python3.11/dist-packages (from google_images_search) (11.2.1)\n",
            "Requirement already satisfied: python-resize-image~=1.1 in /usr/local/lib/python3.11/dist-packages (from google_images_search) (1.1.20)\n",
            "Requirement already satisfied: google-api-python-client~=2.48.0 in /usr/local/lib/python3.11/dist-packages (from google_images_search) (2.48.0)\n",
            "Requirement already satisfied: httplib2<1dev,>=0.15.0 in /usr/local/lib/python3.11/dist-packages (from google-api-python-client~=2.48.0->google_images_search) (0.22.0)\n",
            "Requirement already satisfied: google-auth<3.0.0dev,>=1.16.0 in /usr/local/lib/python3.11/dist-packages (from google-api-python-client~=2.48.0->google_images_search) (2.38.0)\n",
            "Requirement already satisfied: google-auth-httplib2>=0.1.0 in /usr/local/lib/python3.11/dist-packages (from google-api-python-client~=2.48.0->google_images_search) (0.2.0)\n",
            "Requirement already satisfied: google-api-core!=2.0.*,!=2.1.*,!=2.2.*,!=2.3.0,<3.0.0dev,>=1.31.5 in /usr/local/lib/python3.11/dist-packages (from google-api-python-client~=2.48.0->google_images_search) (2.25.1)\n",
            "Requirement already satisfied: uritemplate<5,>=3.0.1 in /usr/local/lib/python3.11/dist-packages (from google-api-python-client~=2.48.0->google_images_search) (4.2.0)\n",
            "Requirement already satisfied: charset-normalizer<4,>=2 in /usr/local/lib/python3.11/dist-packages (from requests~=2.21->google_images_search) (3.4.2)\n",
            "Requirement already satisfied: idna<4,>=2.5 in /usr/local/lib/python3.11/dist-packages (from requests~=2.21->google_images_search) (3.10)\n",
            "Requirement already satisfied: urllib3<3,>=1.21.1 in /usr/local/lib/python3.11/dist-packages (from requests~=2.21->google_images_search) (2.4.0)\n",
            "Requirement already satisfied: certifi>=2017.4.17 in /usr/local/lib/python3.11/dist-packages (from requests~=2.21->google_images_search) (2025.6.15)\n",
            "Requirement already satisfied: googleapis-common-protos<2.0.0,>=1.56.2 in /usr/local/lib/python3.11/dist-packages (from google-api-core!=2.0.*,!=2.1.*,!=2.2.*,!=2.3.0,<3.0.0dev,>=1.31.5->google-api-python-client~=2.48.0->google_images_search) (1.70.0)\n",
            "Requirement already satisfied: protobuf!=3.20.0,!=3.20.1,!=4.21.0,!=4.21.1,!=4.21.2,!=4.21.3,!=4.21.4,!=4.21.5,<7.0.0,>=3.19.5 in /usr/local/lib/python3.11/dist-packages (from google-api-core!=2.0.*,!=2.1.*,!=2.2.*,!=2.3.0,<3.0.0dev,>=1.31.5->google-api-python-client~=2.48.0->google_images_search) (5.29.5)\n",
            "Requirement already satisfied: proto-plus<2.0.0,>=1.22.3 in /usr/local/lib/python3.11/dist-packages (from google-api-core!=2.0.*,!=2.1.*,!=2.2.*,!=2.3.0,<3.0.0dev,>=1.31.5->google-api-python-client~=2.48.0->google_images_search) (1.26.1)\n",
            "Requirement already satisfied: cachetools<6.0,>=2.0.0 in /usr/local/lib/python3.11/dist-packages (from google-auth<3.0.0dev,>=1.16.0->google-api-python-client~=2.48.0->google_images_search) (5.5.2)\n",
            "Requirement already satisfied: pyasn1-modules>=0.2.1 in /usr/local/lib/python3.11/dist-packages (from google-auth<3.0.0dev,>=1.16.0->google-api-python-client~=2.48.0->google_images_search) (0.4.2)\n",
            "Requirement already satisfied: rsa<5,>=3.1.4 in /usr/local/lib/python3.11/dist-packages (from google-auth<3.0.0dev,>=1.16.0->google-api-python-client~=2.48.0->google_images_search) (4.9.1)\n",
            "Requirement already satisfied: pyparsing!=3.0.0,!=3.0.1,!=3.0.2,!=3.0.3,<4,>=2.4.2 in /usr/local/lib/python3.11/dist-packages (from httplib2<1dev,>=0.15.0->google-api-python-client~=2.48.0->google_images_search) (3.2.3)\n",
            "Requirement already satisfied: pyasn1<0.7.0,>=0.6.1 in /usr/local/lib/python3.11/dist-packages (from pyasn1-modules>=0.2.1->google-auth<3.0.0dev,>=1.16.0->google-api-python-client~=2.48.0->google_images_search) (0.6.1)\n"
          ]
        }
      ],
      "source": [
        "!pip install google_images_search"
      ]
    },
    {
      "cell_type": "code",
      "source": [
        "# Import the necessary libraries\n",
        "from google_images_search import GoogleImagesSearch\n",
        "import zipfile  # (optional) if you plan to zip the images later\n",
        "import os       # for directory management\n",
        "\n",
        "# Initialize the GoogleImagesSearch object with your API key and CX ID\n",
        "# Replace 'xxxxxxxxxxxxx' and 'xxxxxxxxxxxxxxx' with your actual credentials\n",
        "gis = GoogleImagesSearch('xxxxxxxxxxxxx', 'xxxxxxxxxxxxxxx', validate_images=True)\n",
        "\n",
        "# Define a function to search and download images\n",
        "def search(keyword, imageNumber):\n",
        "    # Define search parameters\n",
        "    _search_params = {\n",
        "        'q': keyword,          # The keyword to search for (e.g., \"motorbike\")\n",
        "        'num': imageNumber,    # Number of images to download\n",
        "        # You can add more search options here if needed, such as:\n",
        "        # 'fileType': 'jpg',\n",
        "        # 'imgType': 'photo',\n",
        "        # 'rights': 'cc_publicdomain',\n",
        "    }\n",
        "\n",
        "    # Perform the search and download images to the 'images' folder\n",
        "    gis.search(search_params=_search_params, path_to_dir='./images/')\n",
        "\n",
        "# Call the function with desired keyword and number of images\n",
        "search('car', 10)\n"
      ],
      "metadata": {
        "id": "d6x5PZaQGSWN"
      },
      "execution_count": null,
      "outputs": []
    }
  ]
}